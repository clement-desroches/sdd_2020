{
 "cells": [
  {
   "cell_type": "markdown",
   "metadata": {},
   "source": [
    "# Mini-projet DATA 2019-2020 : Sujet"
   ]
  },
  {
   "cell_type": "markdown",
   "metadata": {},
   "source": [
    "## Introduction au projet\n",
    "\n",
    "Il s'agit dans ce projet de construire un modèle prédictif du risque de défaut de paiement sur un crédit, en fonction de variables décrivant la personne bénéficiant de ce prêt ainsi que l'historique des remboursements sur les 6 derniers mois.\n",
    "\n",
    "__Déroulement et évaluation :__ \n",
    "* Si vous choisissez de passer l'examen écrit du 1er juillet, votre projet ne sera pas noté. Ce mini-projet est néanmoins l'occasion de traiter en pratique un problème de classification (les PC ne traitant que de problèmes de régression) et de réutiliser des notions vues dans les PC sur un nouveau jeu de données.\n",
    "* __Si vous choisissez de ne pas passer l'examen écrit du 1er juillet, vous devrez rendre un rapport de projet.__ Les consignes précises pour ce rapport vous seront données début juin. Vous pouvez travailler à deux ou plus ensemble sur le projet, mais devrez rendre un rapport individuel.\n",
    "* À la fin du projet, vous pourrez comparer vos prédictions sur des données dont l'étiquette ne vous est pas donnée pour l'instant à leurs étiquettes réelles.\n",
    "\n",
    "Le mini-projet est moins guidé que les PC, mais vous pouvez souvent _réutiliser du code_ des précédentes PC. La PC du __20 mai__ est consacrée à la découverte du projet. C'est l'occasion de découvrir les données et de commencer à vous attaquer à la première partie. La deuxième partie est moins guidée, et vous aurez besoin des notions abordées lors des séances des 3 et 10 juin pour l'aborder.\n",
    "\n",
    "__Mise en contexte :__ Les données que vous allez utiliser sont proches de données réelles.\n",
    "Vous semblerait-il intéressant, pour une banque, de déployer un tel modèle, entrainé sur ses données ? Quelle performance vous semblerait acceptable pour votre cas d'usage ? Quels risques pourrait-on encourir ? Quel(s) autre(s) usage(s) pourrait-on faire de ces données ? Un des buts du chapitre 6, que nous traiterons lors du prochain cours, est de vous amener à réfléchir à ce genre de questions."
   ]
  },
  {
   "cell_type": "markdown",
   "metadata": {},
   "source": [
    "## Première partie (à partir du 20 mai 2020)"
   ]
  },
  {
   "cell_type": "markdown",
   "metadata": {},
   "source": [
    "## 1. Données\n",
    "\n",
    "Les données publiques, c'est-à-dire celles qui sont étiquetées, sont contenues dans le fichier `../data/credit_public.csv`. Chaque ligne correspond à un prêt. Chaque prêt est décrit par les variables suivantes :\n",
    "```\n",
    "    Credit_total : montant du crédit (€)\n",
    "    Sexe : \n",
    "       1 = M\n",
    "       2 = F\n",
    "    Education : \n",
    "        1 = Études supérieures, Bac+5 ou plus ; \n",
    "        2 = Études supérieures < Bac+5 ; \n",
    "        3 = Bac ; \n",
    "        4 = Autre / inconnu\n",
    "    Statut_marital : \n",
    "        1 = mariage ; \n",
    "        2 = célibat ; \n",
    "        3 = autre / inconnu\n",
    "    Age : en années\n",
    "    Statut_mois_1 -- Statut_mois_6 : statut du remboursement sur les 6 mois précédents \n",
    "        (Statut_mois_1 : le mois précédent ; Statut_mois_6 : 6 mois avant). \n",
    "        -2 = pas de consommation sur le crédit ;\n",
    "        -1 = payé à l'échéance ; \n",
    "        0 = système de crédit renouvelable plutôt qu'à l'échéance ; \n",
    "        1 = payé avec 1 mois de retard ; \n",
    "        2 = payé avec 2 mois de retard ; ... ; \n",
    "        8 = payé avec 8 mois de retard ou plus.\n",
    "    Montant_mois_1 -- Montant_mois_6 : montant dû à chacun des 6 mois précédents \n",
    "        (Montant_mois_1 : le mois précédent ; Montant_mois_6 : 6 mois avant)\n",
    "    Versement_mois_1 -- Versement_mois_6 : montant remboursé (€) à chacun des 6 mois précédents\n",
    "        (Versement_mois_1 : le mois précédent ; Versement_mois_6 : 6 mois avant)\n",
    "    Defaut_de_paiement : défaut de paiement \n",
    "        0 = non\n",
    "        1 = oui \n",
    "```\n"
   ]
  },
  {
   "cell_type": "markdown",
   "metadata": {},
   "source": [
    "__Question :__ Quelle est la nature du problème d'apprentissage ? Quelles sont les étiquettes ?"
   ]
  },
  {
   "cell_type": "markdown",
   "metadata": {},
   "source": [
    "Il s'agit d'un apprentissage supervisé, dont les étiquettes sont 0 et 1 pour le défaut de paiement."
   ]
  },
  {
   "cell_type": "markdown",
   "metadata": {},
   "source": [
    "### 1.1 Chargement des données"
   ]
  },
  {
   "cell_type": "code",
   "execution_count": 2,
   "metadata": {},
   "outputs": [
    {
     "name": "stdout",
     "output_type": "stream",
     "text": [
      "Populating the interactive namespace from numpy and matplotlib\n"
     ]
    }
   ],
   "source": [
    "%pylab inline"
   ]
  },
  {
   "cell_type": "code",
   "execution_count": 3,
   "metadata": {},
   "outputs": [],
   "source": [
    "import pandas as pd"
   ]
  },
  {
   "cell_type": "code",
   "execution_count": 4,
   "metadata": {},
   "outputs": [],
   "source": [
    "df_public = pd.read_csv('../data/credit_public.csv', sep='\\t')"
   ]
  },
  {
   "cell_type": "code",
   "execution_count": 5,
   "metadata": {},
   "outputs": [
    {
     "data": {
      "text/html": [
       "<div>\n",
       "<style scoped>\n",
       "    .dataframe tbody tr th:only-of-type {\n",
       "        vertical-align: middle;\n",
       "    }\n",
       "\n",
       "    .dataframe tbody tr th {\n",
       "        vertical-align: top;\n",
       "    }\n",
       "\n",
       "    .dataframe thead th {\n",
       "        text-align: right;\n",
       "    }\n",
       "</style>\n",
       "<table border=\"1\" class=\"dataframe\">\n",
       "  <thead>\n",
       "    <tr style=\"text-align: right;\">\n",
       "      <th></th>\n",
       "      <th>Credit_total</th>\n",
       "      <th>Sexe</th>\n",
       "      <th>Education</th>\n",
       "      <th>Statut_marital</th>\n",
       "      <th>Age</th>\n",
       "      <th>Statut_mois_1</th>\n",
       "      <th>Statut_mois_2</th>\n",
       "      <th>Statut_mois_3</th>\n",
       "      <th>Statut_mois_4</th>\n",
       "      <th>Statut_mois_5</th>\n",
       "      <th>...</th>\n",
       "      <th>Montant_mois_4</th>\n",
       "      <th>Montant_mois_5</th>\n",
       "      <th>Montant_mois_6</th>\n",
       "      <th>Versement_mois_1</th>\n",
       "      <th>Versement_mois_2</th>\n",
       "      <th>Versement_mois_3</th>\n",
       "      <th>Versement_mois_4</th>\n",
       "      <th>Versement_mois_5</th>\n",
       "      <th>Versement_mois_6</th>\n",
       "      <th>Defaut_de_paiement</th>\n",
       "    </tr>\n",
       "  </thead>\n",
       "  <tbody>\n",
       "    <tr>\n",
       "      <th>0</th>\n",
       "      <td>1190</td>\n",
       "      <td>1</td>\n",
       "      <td>2</td>\n",
       "      <td>2</td>\n",
       "      <td>27</td>\n",
       "      <td>2</td>\n",
       "      <td>2</td>\n",
       "      <td>0</td>\n",
       "      <td>0</td>\n",
       "      <td>0</td>\n",
       "      <td>...</td>\n",
       "      <td>234</td>\n",
       "      <td>214</td>\n",
       "      <td>219</td>\n",
       "      <td>133</td>\n",
       "      <td>38</td>\n",
       "      <td>12</td>\n",
       "      <td>12</td>\n",
       "      <td>12</td>\n",
       "      <td>16</td>\n",
       "      <td>0</td>\n",
       "    </tr>\n",
       "    <tr>\n",
       "      <th>1</th>\n",
       "      <td>5238</td>\n",
       "      <td>1</td>\n",
       "      <td>1</td>\n",
       "      <td>1</td>\n",
       "      <td>45</td>\n",
       "      <td>1</td>\n",
       "      <td>2</td>\n",
       "      <td>0</td>\n",
       "      <td>0</td>\n",
       "      <td>0</td>\n",
       "      <td>...</td>\n",
       "      <td>3779</td>\n",
       "      <td>3860</td>\n",
       "      <td>3938</td>\n",
       "      <td>0</td>\n",
       "      <td>181</td>\n",
       "      <td>136</td>\n",
       "      <td>143</td>\n",
       "      <td>143</td>\n",
       "      <td>293</td>\n",
       "      <td>0</td>\n",
       "    </tr>\n",
       "    <tr>\n",
       "      <th>2</th>\n",
       "      <td>1190</td>\n",
       "      <td>2</td>\n",
       "      <td>2</td>\n",
       "      <td>2</td>\n",
       "      <td>22</td>\n",
       "      <td>0</td>\n",
       "      <td>0</td>\n",
       "      <td>0</td>\n",
       "      <td>0</td>\n",
       "      <td>0</td>\n",
       "      <td>...</td>\n",
       "      <td>705</td>\n",
       "      <td>722</td>\n",
       "      <td>688</td>\n",
       "      <td>47</td>\n",
       "      <td>36</td>\n",
       "      <td>24</td>\n",
       "      <td>27</td>\n",
       "      <td>26</td>\n",
       "      <td>48</td>\n",
       "      <td>1</td>\n",
       "    </tr>\n",
       "    <tr>\n",
       "      <th>3</th>\n",
       "      <td>1905</td>\n",
       "      <td>2</td>\n",
       "      <td>1</td>\n",
       "      <td>2</td>\n",
       "      <td>27</td>\n",
       "      <td>-1</td>\n",
       "      <td>-1</td>\n",
       "      <td>2</td>\n",
       "      <td>-1</td>\n",
       "      <td>-1</td>\n",
       "      <td>...</td>\n",
       "      <td>57</td>\n",
       "      <td>10</td>\n",
       "      <td>69</td>\n",
       "      <td>309</td>\n",
       "      <td>0</td>\n",
       "      <td>57</td>\n",
       "      <td>10</td>\n",
       "      <td>76</td>\n",
       "      <td>175</td>\n",
       "      <td>1</td>\n",
       "    </tr>\n",
       "    <tr>\n",
       "      <th>4</th>\n",
       "      <td>1667</td>\n",
       "      <td>1</td>\n",
       "      <td>2</td>\n",
       "      <td>2</td>\n",
       "      <td>27</td>\n",
       "      <td>0</td>\n",
       "      <td>0</td>\n",
       "      <td>0</td>\n",
       "      <td>0</td>\n",
       "      <td>0</td>\n",
       "      <td>...</td>\n",
       "      <td>2004</td>\n",
       "      <td>1135</td>\n",
       "      <td>1173</td>\n",
       "      <td>98</td>\n",
       "      <td>57</td>\n",
       "      <td>60</td>\n",
       "      <td>43</td>\n",
       "      <td>57</td>\n",
       "      <td>114</td>\n",
       "      <td>0</td>\n",
       "    </tr>\n",
       "  </tbody>\n",
       "</table>\n",
       "<p>5 rows × 24 columns</p>\n",
       "</div>"
      ],
      "text/plain": [
       "   Credit_total  Sexe  Education  Statut_marital  Age  Statut_mois_1  \\\n",
       "0          1190     1          2               2   27              2   \n",
       "1          5238     1          1               1   45              1   \n",
       "2          1190     2          2               2   22              0   \n",
       "3          1905     2          1               2   27             -1   \n",
       "4          1667     1          2               2   27              0   \n",
       "\n",
       "   Statut_mois_2  Statut_mois_3  Statut_mois_4  Statut_mois_5  ...  \\\n",
       "0              2              0              0              0  ...   \n",
       "1              2              0              0              0  ...   \n",
       "2              0              0              0              0  ...   \n",
       "3             -1              2             -1             -1  ...   \n",
       "4              0              0              0              0  ...   \n",
       "\n",
       "   Montant_mois_4  Montant_mois_5  Montant_mois_6  Versement_mois_1  \\\n",
       "0             234             214             219               133   \n",
       "1            3779            3860            3938                 0   \n",
       "2             705             722             688                47   \n",
       "3              57              10              69               309   \n",
       "4            2004            1135            1173                98   \n",
       "\n",
       "   Versement_mois_2  Versement_mois_3  Versement_mois_4  Versement_mois_5  \\\n",
       "0                38                12                12                12   \n",
       "1               181               136               143               143   \n",
       "2                36                24                27                26   \n",
       "3                 0                57                10                76   \n",
       "4                57                60                43                57   \n",
       "\n",
       "   Versement_mois_6  Defaut_de_paiement  \n",
       "0                16                   0  \n",
       "1               293                   0  \n",
       "2                48                   1  \n",
       "3               175                   1  \n",
       "4               114                   0  \n",
       "\n",
       "[5 rows x 24 columns]"
      ]
     },
     "execution_count": 5,
     "metadata": {},
     "output_type": "execute_result"
    }
   ],
   "source": [
    "df_public.head()"
   ]
  },
  {
   "cell_type": "markdown",
   "metadata": {},
   "source": [
    "### 1.2 Création d'un jeu d'entrainement et d'un jeu de test"
   ]
  },
  {
   "cell_type": "markdown",
   "metadata": {},
   "source": [
    "__Consigne :__ Créer deux array `X_public` et `y_public` contenant, respectivement, les données non étiquetées et les étiquettes."
   ]
  },
  {
   "cell_type": "code",
   "execution_count": 6,
   "metadata": {},
   "outputs": [],
   "source": [
    "x_public = np.array(df_public.drop(columns = [\"Defaut_de_paiement\"]))\n",
    "y_public = np.array(df_public[\"Defaut_de_paiement\"])"
   ]
  },
  {
   "cell_type": "markdown",
   "metadata": {},
   "source": [
    "Regardons combien d'étiquettes de chaque classe `y_public` contient :"
   ]
  },
  {
   "cell_type": "code",
   "execution_count": 7,
   "metadata": {},
   "outputs": [
    {
     "name": "stdout",
     "output_type": "stream",
     "text": [
      "Nombres d'étiquettes positives : 1011\n",
      "Nombres d'étiquettes négatives : 3480\n",
      "Valeurs uniques dans y_public : [0 1]\n"
     ]
    }
   ],
   "source": [
    "# Les étiquettes positives sont des 1, et les négatives des 0,\n",
    "# on peut aussi utiliser\n",
    "print(\"Nombres d'étiquettes positives : %d\" % (np.sum(y_public)))\n",
    "print(\"Nombres d'étiquettes négatives : %d\" % ((np.size(y_public) - np.sum(y_public))))\n",
    "# Il vaut quand même mieux vérifier qu'il n'y a bien que des 0 et des 1\n",
    "print(\"Valeurs uniques dans y_public :\", np.unique(y_public))"
   ]
  },
  {
   "cell_type": "markdown",
   "metadata": {},
   "source": [
    "Nous allons maintenant créer un jeu d'entrainement (80%) des données et un jeu de test (20%) des données, en respectant les proportions relatives d'exemples de chaque classe dans les deux jeux (on parle de _stratification_)."
   ]
  },
  {
   "cell_type": "code",
   "execution_count": 8,
   "metadata": {},
   "outputs": [],
   "source": [
    "from sklearn import model_selection"
   ]
  },
  {
   "cell_type": "code",
   "execution_count": 9,
   "metadata": {},
   "outputs": [],
   "source": [
    "# Use 20% for testing (X_test, y_test) and the rest for training (X_train, y_train)\n",
    "X_train, X_test, y_train, y_test = model_selection.train_test_split(x_public, y_public, test_size=0.20,\n",
    "                                                                    stratify = y_public, # stratification\n",
    "                                                                    random_state=92)"
   ]
  },
  {
   "cell_type": "markdown",
   "metadata": {},
   "source": [
    "Vérifiez que `X_train`, `X_test`, `y_train`, `y_test` ont bien la forme que vous attendiez."
   ]
  },
  {
   "cell_type": "code",
   "execution_count": 10,
   "metadata": {},
   "outputs": [
    {
     "data": {
      "text/plain": [
       "((3592, 23), (899, 23), (3592,), (899,), numpy.ndarray)"
      ]
     },
     "execution_count": 10,
     "metadata": {},
     "output_type": "execute_result"
    }
   ],
   "source": [
    "X_train.shape, X_test.shape, y_train.shape, y_test.shape, type(X_train)"
   ]
  },
  {
   "cell_type": "markdown",
   "metadata": {},
   "source": [
    "__Question :__ Pourquoi stratifier les jeux de données ?"
   ]
  },
  {
   "cell_type": "markdown",
   "metadata": {},
   "source": [
    "La stratification des données par le défaut de paiement permet d'avoir un échantillon représentatif de tous les cas. Elle permet de pouvoir toujours répondre au test qui subviendra pour savoir s'il y aura défaut de paiement ou non."
   ]
  },
  {
   "cell_type": "markdown",
   "metadata": {},
   "source": [
    "## 2. Visualisation des variables"
   ]
  },
  {
   "cell_type": "markdown",
   "metadata": {},
   "source": [
    "__Consigne :__ Choisissez des représentations appropriées pour visualiser les différentes variables de votre jeu de données, y compris les étiquettes. \n",
    "\n",
    "Qu'observez-vous ? Quelles transformations vous sembleraient judicieuses ? "
   ]
  },
  {
   "cell_type": "markdown",
   "metadata": {},
   "source": [
    "Nous allons comme dans la Pc3 séparer les données continues des données discrètes"
   ]
  },
  {
   "cell_type": "code",
   "execution_count": 11,
   "metadata": {},
   "outputs": [],
   "source": [
    "continuous_features = [\"Age\", \"Credit_total\", \"Montant_mois_1\", \"Montant_mois_2\", \"Montant_mois_3\", \"Montant_mois_4\", \"Montant_mois_5\", \"Montant_mois_6\", \"Versement_mois_1\", \"Versement_mois_2\",\"Versement_mois_3\",\"Versement_mois_4\",\"Versement_mois_5\",\"Versement_mois_6\", ]\n",
    "discrete_features = [\"Sexe\",\"Education\", \"Statut_marital\", \"Statut_mois_1\", \"Statut_mois_2\", \"Statut_mois_3\", \"Statut_mois_4\", \"Statut_mois_5\", \"Statut_mois_6\"]\n",
    "\n",
    "features = list(df_public.drop(columns=[\"Defaut_de_paiement\"]).columns)\n",
    "\n",
    "continuous_features_idx = [features.index(feat_name) for feat_name in continuous_features]\n",
    "discrete_features_idx = [features.index(feat_name) for feat_name in discrete_features]"
   ]
  },
  {
   "cell_type": "code",
   "execution_count": 12,
   "metadata": {},
   "outputs": [
    {
     "data": {
      "image/png": "[encoded data removed]",
      "text/plain": [
       "<Figure size 1800x1440 with 14 Axes>"
      ]
     },
     "metadata": {
      "needs_background": "light"
     },
     "output_type": "display_data"
    }
   ],
   "source": [
    "fig = plt.figure(figsize=(25, 20))\n",
    "\n",
    "# Histograms for continuous features\n",
    "for (plot_idx, feat_idx) in enumerate(continuous_features_idx):\n",
    "    # create a subplot in the (plot_idx+1) position of a 2x2 grid\n",
    "    ax = fig.add_subplot(4, 4, (plot_idx+1))\n",
    "    # plot the histogram of feat_idx\n",
    "    h = ax.hist(X_train[:, feat_idx], bins=30, edgecolor='none')\n",
    "    # use the name of the feature as a title for each histogram\n",
    "    ax.set_title(features[feat_idx])\n",
    "# espacement entre les subplots\n",
    "fig.tight_layout(pad=1.0)"
   ]
  },
  {
   "cell_type": "code",
   "execution_count": 13,
   "metadata": {},
   "outputs": [
    {
     "data": {
      "image/png": "[encoded data removed]",
      "text/plain": [
       "<Figure size 1440x1440 with 9 Axes>"
      ]
     },
     "metadata": {
      "needs_background": "light"
     },
     "output_type": "display_data"
    }
   ],
   "source": [
    "# Bar plots for discrete features\n",
    "fig = plt.figure(figsize=(20, 20))\n",
    "\n",
    "for (plot_idx, feat_idx) in enumerate(discrete_features_idx):\n",
    "    # create a subplot in the (plot_idx+1) position of a 2x5 grid\n",
    "    ax = fig.add_subplot(4, 4, (plot_idx+1))\n",
    "\n",
    "    feature_values = np.unique(X_train[:, feat_idx])\n",
    "    frequencies = [(float(len(np.where(X_train[:, feat_idx]==value)[0]))/X_train.shape[0]) \\\n",
    "                   for value in feature_values]\n",
    "    \n",
    "    b = ax.bar(range(len(feature_values)), frequencies, width=0.5, \n",
    "               tick_label=list([int(n) for n in feature_values]))\n",
    "    \n",
    "    # use the name of the feature as a title for each histogram\n",
    "    ax.set_title(features[feat_idx])\n",
    "fig.tight_layout(pad=1.0)"
   ]
  },
  {
   "cell_type": "markdown",
   "metadata": {},
   "source": [
    "Et finalement on représente les étiquettes :"
   ]
  },
  {
   "cell_type": "code",
   "execution_count": 16,
   "metadata": {},
   "outputs": [
    {
     "ename": "TypeError",
     "evalue": "bar() missing 1 required positional argument: 'height'",
     "output_type": "error",
     "traceback": [
      "\u001b[0;31m---------------------------------------------------------------------------\u001b[0m",
      "\u001b[0;31mTypeError\u001b[0m                                 Traceback (most recent call last)",
      "\u001b[0;32m<ipython-input-16-6779bd3f5eab>\u001b[0m in \u001b[0;36m<module>\u001b[0;34m\u001b[0m\n\u001b[0;32m----> 1\u001b[0;31m \u001b[0mplt\u001b[0m\u001b[0;34m.\u001b[0m\u001b[0mbar\u001b[0m\u001b[0;34m(\u001b[0m\u001b[0my_train\u001b[0m\u001b[0;34m)\u001b[0m\u001b[0;34m\u001b[0m\u001b[0;34m\u001b[0m\u001b[0m\n\u001b[0m\u001b[1;32m      2\u001b[0m \u001b[0mplt\u001b[0m\u001b[0;34m.\u001b[0m\u001b[0mtitle\u001b[0m\u001b[0;34m(\u001b[0m\u001b[0;34m\"défaut de paiement\"\u001b[0m\u001b[0;34m)\u001b[0m\u001b[0;34m\u001b[0m\u001b[0;34m\u001b[0m\u001b[0m\n",
      "\u001b[0;31mTypeError\u001b[0m: bar() missing 1 required positional argument: 'height'"
     ]
    }
   ],
   "source": [
    "plt.bar(y_train)\n",
    "plt.title(\"défaut de paiement\")"
   ]
  },
  {
   "cell_type": "markdown",
   "metadata": {},
   "source": [
    "La différence d'échelle entre toutes les valeurs est problématique, pour une bonne interprétation des coefficients de la régression linéraire on va d'abord centrer réduires uniquement les valeurs continues car cela ne semble pas vraiment judicieux sur les variables discrètes.\n",
    "Pour les varibales discrètes nous allons les encoder one-hot pour que les différences entre célibataire/en_couple et célibataire/autre soient les mêmes par exemple."
   ]
  },
  {
   "cell_type": "markdown",
   "metadata": {},
   "source": [
    "## 3. Prétraitement des variables\n",
    "\n",
    "__Consigne :__ Mettez en œuvre les transformations de variables qui vous semblent judicieuses afin de créer deux array, `X_train_processed` et `X_test_processed`, contenant vos données pré-traitées."
   ]
  },
  {
   "cell_type": "markdown",
   "metadata": {},
   "source": [
    "__Conseils :__ \n",
    "* Faites principalement attention à l'amplitude des valeurs prises par les variables continues.\n",
    "* L'encodage one-hot peut aussi se faire avec `scikit-learn` : https://scikit-learn.org/stable/modules/generated/sklearn.preprocessing.OneHotEncoder.html\n",
    "Attention alors \n",
    "    * à utiliser l'argument `sparse=True` pour conserver un array numpy plutôt qu'une structure de matrice sparse ; \n",
    "    * à garder la trace de quelles nouvelles colonnes correspondent à quelles variables, par exemple grâce à l'attribut `categories_`.\n",
    "* Vous pouvez appliquer des transformations différentes à des colonnes différentes en vous restreignant à ces colonnes, par exemple `X_train[:, continuous_features_idx]`.\n",
    "* Vous pouvez concaténer des array numpy  grâce à `np.hstack((array_1, array_2))`.\n",
    "\n",
    "Attention aussi à appliquer vos transformations aux données de test."
   ]
  },
  {
   "cell_type": "code",
   "execution_count": 17,
   "metadata": {},
   "outputs": [],
   "source": [
    "from sklearn import preprocessing"
   ]
  },
  {
   "cell_type": "code",
   "execution_count": 18,
   "metadata": {},
   "outputs": [
    {
     "data": {
      "text/plain": [
       "StandardScaler(copy=True, with_mean=True, with_std=True)"
      ]
     },
     "execution_count": 18,
     "metadata": {},
     "output_type": "execute_result"
    }
   ],
   "source": [
    "standard_scaler = preprocessing.StandardScaler()\n",
    "standard_scaler.fit(X_train[:, continuous_features_idx])"
   ]
  },
  {
   "cell_type": "code",
   "execution_count": 19,
   "metadata": {},
   "outputs": [
    {
     "name": "stdout",
     "output_type": "stream",
     "text": [
      "[[-0.99600137 -0.15687197  0.3379347  ... -0.11423463 -0.17273658\n",
      "  -0.12974981]\n",
      " [-1.20951515 -1.11255857 -0.50461028 ... -0.28014278 -0.28924359\n",
      "  -0.21924024]\n",
      " [-0.99600137  0.32113858  1.91479259 ...  0.2483054   0.1867708\n",
      "   0.12662818]\n",
      " ...\n",
      " [-1.42302893 -1.11255857 -0.4635376  ... -0.28014278 -0.31920254\n",
      "  -0.27728809]\n",
      " [-1.10275826 -1.03294589 -0.4879592  ... -0.33237312 -0.20935307\n",
      "  -0.1611924 ]\n",
      " [-0.56897381  0.79881462 -0.71718915 ... -0.33237312 -0.2526271\n",
      "  -0.24826417]]\n"
     ]
    }
   ],
   "source": [
    "X_train_scaled_continuous = standard_scaler.transform(X_train[:, continuous_features_idx])\n",
    "X_test_scaled_continuous = standard_scaler.transform(X_test[:, continuous_features_idx])\n",
    "print(X_test_scaled_continuous)"
   ]
  },
  {
   "cell_type": "code",
   "execution_count": 20,
   "metadata": {},
   "outputs": [
    {
     "data": {
      "text/plain": [
       "[array([1, 2]),\n",
       " array([1, 2, 3, 4]),\n",
       " array([1, 2, 3]),\n",
       " array([-2, -1,  0,  1,  2,  3,  4,  5,  6,  7,  8]),\n",
       " array([-2, -1,  0,  1,  2,  3,  4,  5,  6,  7]),\n",
       " array([-2, -1,  0,  2,  3,  4,  5,  6,  7]),\n",
       " array([-2, -1,  0,  2,  3,  4,  5,  6,  7,  8]),\n",
       " array([-2, -1,  0,  2,  3,  4,  5,  6,  7]),\n",
       " array([-2, -1,  0,  2,  3,  4,  5,  6,  7])]"
      ]
     },
     "execution_count": 20,
     "metadata": {},
     "output_type": "execute_result"
    }
   ],
   "source": [
    "enc = preprocessing.OneHotEncoder(sparse = False, handle_unknown='ignore')\n",
    "enc.fit(X_train[:, discrete_features_idx])\n",
    "enc.categories_"
   ]
  },
  {
   "cell_type": "code",
   "execution_count": 21,
   "metadata": {},
   "outputs": [
    {
     "name": "stdout",
     "output_type": "stream",
     "text": [
      "[[1. 0. 0. ... 0. 0. 0.]\n",
      " [0. 1. 1. ... 0. 0. 0.]\n",
      " [0. 1. 1. ... 0. 0. 0.]\n",
      " ...\n",
      " [1. 0. 0. ... 0. 0. 0.]\n",
      " [0. 1. 0. ... 0. 0. 0.]\n",
      " [1. 0. 1. ... 0. 0. 0.]]\n"
     ]
    }
   ],
   "source": [
    "X_train_OneHot_discrete = enc.transform(X_train[:, discrete_features_idx])\n",
    "X_test_OneHot_discrete = enc.transform(X_test[:, discrete_features_idx])\n",
    "print(X_test_OneHot_discrete)"
   ]
  },
  {
   "cell_type": "code",
   "execution_count": 22,
   "metadata": {},
   "outputs": [
    {
     "name": "stdout",
     "output_type": "stream",
     "text": [
      "(3592, 81)\n"
     ]
    }
   ],
   "source": [
    "X_train_transformed = np.hstack((X_train_scaled_continuous,X_train_OneHot_discrete))\n",
    "X_test_transformed = np.hstack((X_test_scaled_continuous,X_test_OneHot_discrete))\n",
    "# Cela change l'ordre des colonnes néanmoins, on pourrait réorganiser les colonnes pour garder la meme \n",
    "# organisation mais ce n'est pas nécessaire je pense\n",
    "print(X_train_transformed.shape)"
   ]
  },
  {
   "cell_type": "markdown",
   "metadata": {},
   "source": [
    "## 4. (Pour aller plus loin) Réduction de dimension\n",
    "\n",
    "__Attention : Lors de la PC4, je vous recommande de passer directement à la section 5 avant de revenir sur cette section.__\n",
    "\n",
    "__Consigne :__ Effectuez une ACP sur les données d'entraînement (avant et/ou après prétraitement). \n",
    "* Quelle proportion de la variance est expliquée par les deux premières composantes ? \n",
    "* Combien de composantes choisir pour réduire la dimensionalité des données ? \n",
    "* Représentez ces données selon les deux premières composantes et colorez les points selon leur étiquette. Pensez-vous que la tâche de classification va être facile ? Difficile ?\n",
    "* Vous pouvez aussi faire plusieurs graphiques, PC1 vs PC2, PC2 vs PC3, et ainsi de suite, pour visualiser plus de dimensions."
   ]
  },
  {
   "cell_type": "markdown",
   "metadata": {},
   "source": [
    "## 5. Premier modèle de classification"
   ]
  },
  {
   "cell_type": "markdown",
   "metadata": {},
   "source": [
    "### 5.1 Algorithme des k plus proches voisins"
   ]
  },
  {
   "cell_type": "markdown",
   "metadata": {},
   "source": [
    "Nous n'avons pas encore vu d'algorithme permettant d'entraîner un modèle de classification. Nous allons donc commencer avec un modèle simple : celui des __k plus proches voisins__ (ou __kNN__, pour _k nearest neighbors_).\n",
    "\n",
    "Dans ce modèle, la valeur de la fonction de décision en x est la proportion d'individus d'étiquette positive parmi les k plus proches voisins de x au sein des points du jeu d'entraînement ; k est fixé.\n",
    "\n",
    "__Question :__ S'agit-il d'un modèle paramétrique ou non ? "
   ]
  },
  {
   "cell_type": "markdown",
   "metadata": {},
   "source": [
    "__Réponse :__ Il ne s'agit pas d'un modèle paramétrique mais d'une classification non paramétrique car on a pas d'expression explicite du résultat en fonction des données. "
   ]
  },
  {
   "cell_type": "markdown",
   "metadata": {},
   "source": [
    "Nous n'avons pas encore vu comment choisir la valeur d'un hyperparamètre tel que k. Nous allons commencer par utiliser un algorithme des k plus proches voisins avec k fixé à k=5.\n",
    "\n",
    "__Question :__ Pourquoi avoir choisi k impair ?"
   ]
  },
  {
   "cell_type": "markdown",
   "metadata": {},
   "source": [
    "__Réponse :__ Cela permet d'avoir un départage en cas d'égalité."
   ]
  },
  {
   "cell_type": "markdown",
   "metadata": {},
   "source": [
    "__Consigne :__ En utilisant la classe `KNeighborsClassifier` du module `neighbors` de `sklearn`, utilisez l'algorithme des 5 plus proches voisins pour entrainer un modèle sur votre jeu d'entraînement.\n",
    "\n",
    "Documentation https://scikit-learn.org/stable/modules/generated/sklearn.neighbors.KNeighborsClassifier.html"
   ]
  },
  {
   "cell_type": "code",
   "execution_count": 23,
   "metadata": {},
   "outputs": [
    {
     "name": "stdout",
     "output_type": "stream",
     "text": [
      "[0 0 0 1 1 0 1 1 0 0 0 0 0 0 0 0 0 0 0 0 0 0 0 0 0 0 1 0 0 0 0 0 0 1 0 0 0\n",
      " 0 0 0 0 1 0 0 0 1 0 0 0 0 0 0 0 0 1 0 0 0 0 0 0 0 1 0 0 1 0 0 0 0 0 0 0 0\n",
      " 0 0 1 0 0 0 0 0 0 0 0 0 0 0 0 0 0 0 0 1 0 0 0 0 0 0 0 0 0 0 0 0 0 0 0 0 0\n",
      " 0 0 0 1 0 0 0 0 0 0 0 0 0 0 1 1 1 0 1 0 0 0 0 1 0 0 0 0 0 0 0 0 0 1 0 0 1\n",
      " 0 1 0 0 1 0 0 0 0 0 0 0 0 0 0 0 1 0 0 0 1 1 0 0 0 0 0 0 0 0 0 0 0 0 0 1 0\n",
      " 0 0 0 1 0 1 0 1 0 0 0 0 0 0 0 0 0 0 1 1 0 0 0 0 0 0 1 0 0 0 0 0 1 0 0 0 0\n",
      " 0 0 0 0 0 0 0 0 0 0 0 0 0 0 0 0 0 0 0 0 0 1 1 0 0 0 0 0 0 0 0 0 0 0 0 0 1\n",
      " 0 0 0 0 0 0 0 0 0 0 0 0 0 0 0 0 0 0 0 0 0 0 0 0 0 0 0 0 0 0 0 0 0 0 0 0 0\n",
      " 0 1 0 0 0 1 0 0 0 1 0 1 0 0 0 0 0 0 0 0 0 0 0 0 0 0 0 0 0 0 0 0 0 0 0 0 0\n",
      " 0 0 0 0 0 1 0 0 0 0 1 0 0 0 0 0 0 0 0 0 0 1 0 0 0 1 0 0 0 0 0 0 0 1 1 0 0\n",
      " 0 0 0 0 0 0 0 0 1 0 0 1 0 0 0 0 0 0 1 0 0 0 0 0 0 0 0 0 0 0 0 0 0 0 0 1 0\n",
      " 0 0 0 0 0 0 0 0 0 0 0 0 0 0 0 0 0 0 0 0 0 0 0 0 1 0 0 0 1 0 0 0 0 0 0 0 0\n",
      " 0 0 0 0 0 0 0 0 0 0 1 0 0 0 0 1 0 0 0 0 0 0 0 0 0 0 0 0 0 0 0 0 0 0 0 0 0\n",
      " 0 0 0 0 0 0 0 0 0 0 0 0 0 0 1 0 0 0 0 0 0 0 0 0 0 0 0 0 0 0 0 0 0 0 0 0 0\n",
      " 0 0 0 0 0 0 0 0 0 0 0 0 0 0 0 0 0 0 0 0 0 1 0 0 0 1 0 0 0 0 1 0 0 0 0 0 0\n",
      " 0 0 0 0 0 1 0 1 0 0 0 0 0 0 0 1 0 0 0 0 1 0 0 0 0 0 0 0 0 1 0 0 0 0 0 0 0\n",
      " 0 0 0 0 0 0 0 0 0 0 1 0 0 0 0 0 0 0 0 0 0 0 0 0 0 0 0 0 0 0 0 0 0 0 0 0 0\n",
      " 0 0 0 0 0 0 0 0 0 0 0 0 0 1 0 0 0 0 0 0 0 0 1 0 0 0 0 0 1 0 0 0 0 0 1 0 0\n",
      " 0 0 0 0 0 1 0 0 0 0 0 0 0 0 0 0 0 0 0 0 0 0 0 0 0 1 0 0 0 0 0 0 0 1 0 0 0\n",
      " 0 0 1 0 1 0 1 0 0 0 0 0 0 0 0 0 0 0 0 0 0 0 0 0 0 0 0 0 0 0 0 1 0 0 1 0 0\n",
      " 0 0 0 0 0 0 0 0 0 0 1 0 0 0 0 0 0 0 0 1 0 1 0 0 0 0 0 0 0 0 0 0 0 1 1 0 0\n",
      " 0 0 1 1 0 0 1 0 0 0 0 0 0 1 0 1 0 0 0 0 0 0 0 0 1 0 0 0 0 0 0 0 0 0 0 0 0\n",
      " 1 0 0 0 0 0 0 0 1 0 0 0 0 0 0 0 0 1 1 0 0 0 0 1 0 1 0 0 0 0 0 0 0 0 0 0 0\n",
      " 0 0 0 0 0 1 0 0 0 0 0 0 0 0 0 0 0 0 0 1 1 1 1 0 1 0 0 0 0 0 0 1 0 0 0 0 0\n",
      " 0 0 0 1 0 0 0 0 1 0 0]\n",
      "[ True  True  True False False  True  True False  True  True  True  True\n",
      "  True  True  True False  True  True  True False  True False  True  True\n",
      "  True  True  True  True False  True  True False  True  True False  True\n",
      "  True  True False  True  True False  True  True  True  True  True  True\n",
      "  True  True  True  True  True False  True  True  True  True  True False\n",
      "  True False False  True  True  True  True  True  True False False  True\n",
      "  True  True  True  True  True  True  True False  True  True  True  True\n",
      "  True False  True  True  True  True  True  True False False  True  True\n",
      "  True  True  True  True  True  True  True  True  True  True  True  True\n",
      "  True False  True  True False  True False  True  True  True  True  True\n",
      "  True  True  True  True False False  True False  True  True  True  True\n",
      "  True  True  True  True  True False  True  True  True  True  True False\n",
      "  True  True  True  True  True False  True False  True  True  True  True\n",
      "  True  True  True  True  True  True  True  True  True  True False  True\n",
      " False  True  True  True  True  True False  True  True  True False  True\n",
      " False  True  True False False  True  True  True  True False False False\n",
      " False  True  True  True  True  True  True  True False  True  True  True\n",
      "  True  True  True  True  True False  True  True  True  True  True  True\n",
      "  True False False  True  True  True  True  True  True  True  True  True\n",
      " False  True  True False  True  True  True  True False  True  True False\n",
      "  True False  True False  True  True  True  True False  True  True  True\n",
      "  True False  True  True  True  True  True  True  True  True False  True\n",
      "  True  True False  True  True  True  True  True  True  True  True  True\n",
      "  True False  True False  True  True False False  True  True False  True\n",
      "  True  True False  True  True  True  True  True  True  True  True  True\n",
      "  True  True  True  True  True False  True False  True  True  True  True\n",
      "  True  True  True  True  True False  True  True  True  True  True  True\n",
      " False  True  True  True  True  True  True  True  True False  True  True\n",
      "  True  True  True  True  True  True  True  True False  True  True  True\n",
      "  True  True  True  True  True  True  True False  True  True  True  True\n",
      "  True  True False  True  True False  True  True False  True  True  True\n",
      " False  True  True  True False False  True  True  True  True  True  True\n",
      "  True False False  True False  True  True  True  True  True  True  True\n",
      "  True  True  True  True  True  True  True  True  True  True  True False\n",
      "  True  True  True  True False  True  True False  True  True  True False\n",
      "  True  True  True  True  True  True  True  True False  True  True  True\n",
      "  True  True False  True False  True  True  True  True  True  True  True\n",
      "  True  True  True  True  True  True  True  True  True  True  True  True\n",
      "  True  True  True False  True  True  True  True  True  True  True  True\n",
      "  True  True False  True  True  True  True  True  True  True  True  True\n",
      " False  True  True False  True  True  True False False  True  True  True\n",
      "  True  True  True  True  True  True  True  True  True  True False  True\n",
      "  True False False  True  True  True  True  True  True  True  True  True\n",
      " False  True False  True  True  True  True False  True  True False  True\n",
      " False  True  True  True False  True False  True  True  True  True  True\n",
      "  True  True False  True  True  True  True  True False  True  True  True\n",
      "  True  True  True  True  True False  True  True  True False  True False\n",
      "  True  True  True  True  True  True False  True  True  True  True  True\n",
      "  True  True  True  True  True  True  True  True  True  True  True False\n",
      "  True  True  True  True  True  True  True  True  True  True  True  True\n",
      "  True  True  True  True  True  True  True  True  True  True  True  True\n",
      "  True False  True  True  True False  True  True  True False  True  True\n",
      " False False  True  True False  True  True  True  True  True False  True\n",
      "  True  True  True  True  True False  True  True  True  True False  True\n",
      "  True False  True False  True  True  True  True False  True  True  True\n",
      "  True  True  True  True  True  True  True False  True  True  True False\n",
      "  True  True  True  True  True  True  True  True  True  True  True  True\n",
      "  True False  True  True  True  True  True False  True  True False  True\n",
      "  True  True  True False  True False False  True  True  True  True False\n",
      " False  True  True False False  True  True  True  True  True False  True\n",
      "  True False  True  True  True False  True  True False  True  True  True\n",
      "  True  True  True False  True False False  True  True  True  True  True\n",
      "  True  True  True False  True False  True  True False False  True  True\n",
      "  True  True  True  True False  True  True  True False False  True  True\n",
      "  True  True  True  True  True False  True  True  True  True  True False\n",
      "  True  True  True False  True  True False  True False  True  True False\n",
      "  True  True  True False False  True False  True False  True  True  True\n",
      "  True  True  True  True  True  True  True  True  True  True  True  True\n",
      "  True  True  True  True  True  True False False  True  True  True  True\n",
      "  True  True  True False False  True  True  True  True  True  True False\n",
      "  True  True  True  True  True  True  True  True False  True False False\n",
      "  True  True  True  True False  True  True  True False False  True  True\n",
      " False  True False  True  True  True  True False  True  True  True  True\n",
      "  True  True  True  True False False False  True  True  True  True  True\n",
      "  True  True  True  True  True False  True False  True  True  True]\n",
      "0.8053392658509455\n"
     ]
    }
   ],
   "source": [
    "from sklearn.neighbors import KNeighborsClassifier\n",
    "neigh = KNeighborsClassifier(n_neighbors = 5)\n",
    "neigh.fit(X_train_transformed, y_train)\n",
    "print(neigh.predict(X_test_transformed))\n",
    "print((neigh.predict(X_test_transformed) == y_test))\n",
    "print(sum(neigh.predict(X_test_transformed) == y_test)/len(neigh.predict(X_test_transformed))) #taux de succès"
   ]
  },
  {
   "cell_type": "markdown",
   "metadata": {},
   "source": [
    "### 5.2 Métrique d'évaluation\n",
    "\n",
    "Il existe de nombreuses métriques pour évaluer les performances d'un algorithme de classification, et il s'agit ici d'en choisir une adaptée à notre problème."
   ]
  },
  {
   "cell_type": "markdown",
   "metadata": {},
   "source": [
    "__Question :__ Nous avons jusqu'à présent considéré uniquement le _nombre d'erreurs_ d'un modèle de classification. Quel serait dans notre cas la proportion d'erreurs (nombre d'erreurs/nombre de prédictions) d'un modèle prédisant systématiquement la classe négative ? "
   ]
  },
  {
   "cell_type": "code",
   "execution_count": 24,
   "metadata": {},
   "outputs": [
    {
     "name": "stdout",
     "output_type": "stream",
     "text": [
      "0.2246941045606229\n"
     ]
    }
   ],
   "source": [
    "y_negative = [0 for i in range(len(y_test))]\n",
    "print(1-sum(y_negative == y_test)/len(y_test))"
   ]
  },
  {
   "cell_type": "markdown",
   "metadata": {},
   "source": [
    "Dans le cas d'un problème de classification binaire où le nombre d'individus entre les différentes classes est _déséquilibré_, on peut s'intéresser à plusieurs métriques, dont par exemple le F-score. \n",
    "\n",
    "Vous trouverez sa définition dans la documentation du module `metrics` de `sklearn` : https://scikit-learn.org/stable/modules/generated/sklearn.metrics.f1_score.html#sklearn.metrics.f1_score et https://scikit-learn.org/stable/modules/model_evaluation.html#precision-recall-f-measure-metrics\n",
    "\n",
    "Vous pouvez aussi vous plonger plus en détails dans les différentes métriques d'évaluation d'un classifieur binaire [sur OpenClassrooms](https://openclassrooms.com/fr/courses/4297211-evaluez-les-performances-dun-modele-de-machine-learning/4308256-evaluez-un-algorithme-de-classification-qui-retourne-des-valeurs-binaires).\n",
    "\n",
    "__Question :__ Quel serait dans notre cas le F-score d'un modèle prédisant sytématiquement la classe négative ? La classe positive ?"
   ]
  },
  {
   "cell_type": "code",
   "execution_count": 25,
   "metadata": {},
   "outputs": [
    {
     "name": "stdout",
     "output_type": "stream",
     "text": [
      "0.0\n",
      "0.36693914623069934\n"
     ]
    }
   ],
   "source": [
    "y_positive = [1 for i in range(len(y_test))]\n",
    "from sklearn.metrics import f1_score\n",
    "print(f1_score(y_test, y_negative))\n",
    "print(f1_score(y_test, y_positive))"
   ]
  },
  {
   "cell_type": "markdown",
   "metadata": {},
   "source": [
    "### 5.3 Performance du premier modèle"
   ]
  },
  {
   "cell_type": "markdown",
   "metadata": {},
   "source": [
    "__Consigne :__ Utilisez votre premier modèle pour prédire les étiquettes du jeu de test. Conservez les prédictions dans un vecteur `y_pred_5nn`. Calculer le F-score de votre premier modèle sur le jeu de test. Que pensez-vous de cette performance ?"
   ]
  },
  {
   "cell_type": "code",
   "execution_count": 26,
   "metadata": {},
   "outputs": [
    {
     "name": "stdout",
     "output_type": "stream",
     "text": [
      "0.42622950819672134\n"
     ]
    }
   ],
   "source": [
    "y_pred_5nn = neigh.predict(X_test_transformed)\n",
    "print(f1_score(y_test, y_pred_5nn))"
   ]
  },
  {
   "cell_type": "markdown",
   "metadata": {},
   "source": [
    "Le résultat n'est pas très bon... Il faudrait peut-être augmenter le nombre de voisins."
   ]
  },
  {
   "cell_type": "markdown",
   "metadata": {},
   "source": [
    "### 5.4 Utilisation de la fonction de décision "
   ]
  },
  {
   "cell_type": "markdown",
   "metadata": {},
   "source": [
    "Le vecteur `y_pred_5nn` est un vecteur binaire. Cependant, il a été obtenu en utilisant un _seuil_ sur une _fonction de décision_ : celle qui associe à un point la _proportion_ de ses 5 plus proches voisins qui sont positifs. "
   ]
  },
  {
   "cell_type": "markdown",
   "metadata": {},
   "source": [
    "__Question :__ Combien de valeurs différentes cette fonction de décision peut-elle prendre ?"
   ]
  },
  {
   "cell_type": "markdown",
   "metadata": {},
   "source": [
    "__Réponse :__ Elle prend 6 valeurs différentes, 0/5, 1/5...5/5. Le nombre de voisins positifs parmis les 5 voisins."
   ]
  },
  {
   "cell_type": "markdown",
   "metadata": {},
   "source": [
    "__Consigne :__ Pour accéder aux valeurs de la fonction de décision, utilisez la méthode `predict_proba` de votre modèle et stockez le résultat dans un array `y_pred_5nn_scores`. \n",
    "\n",
    "Observez l'array `y_pred_5nn_scores` obtenu. Quelles sont ses dimensions ? À quoi cela correspond-il ? N'hésitez pas à vous reporter à [la documentation](https://scikit-learn.org/stable/modules/generated/sklearn.neighbors.KNeighborsClassifier.html?highlight=kneighborsclassifier#sklearn.neighbors.KNeighborsClassifier.predict_proba).\n",
    "\n",
    "Puis utilisez le code ci-dessous pour une visualisation en diagramme à moustache des scores associés à chaque individu, selon sa classe. Quelle différence observez-vous entre les deux classes ?"
   ]
  },
  {
   "cell_type": "code",
   "execution_count": 27,
   "metadata": {},
   "outputs": [
    {
     "name": "stdout",
     "output_type": "stream",
     "text": [
      "[[0.6 0.4]\n",
      " [0.8 0.2]\n",
      " [1.  0. ]\n",
      " ...\n",
      " [0.4 0.6]\n",
      " [0.6 0.4]\n",
      " [1.  0. ]]\n"
     ]
    }
   ],
   "source": [
    "y_pred_5nn_scores = neigh.predict_proba(X_test_transformed)\n",
    "print(y_pred_5nn_scores)"
   ]
  },
  {
   "cell_type": "markdown",
   "metadata": {},
   "source": [
    "Les dimensions de y_pred_5nn_scores est 899 lignes et 2 colonnes les 2 colonnes représentent implicitement la proportion de voisins négatifs et positifs parmis les 5 et donc la probabilité que le point testé soit réellement positif ou négatif selon ce test."
   ]
  },
  {
   "cell_type": "code",
   "execution_count": 28,
   "metadata": {},
   "outputs": [
    {
     "data": {
      "text/plain": [
       "Text(0.5, 1.0, 'Performance du 5NN')"
      ]
     },
     "execution_count": 28,
     "metadata": {},
     "output_type": "execute_result"
    },
    {
     "data": {
      "image/png": "[encoded data removed]",
      "text/plain": [
       "<Figure size 432x288 with 1 Axes>"
      ]
     },
     "metadata": {
      "needs_background": "light"
     },
     "output_type": "display_data"
    }
   ],
   "source": [
    "y_test_pos_idx = np.where(y_test==1)[0]\n",
    "y_test_neg_idx = np.where(y_test==0)[0]\n",
    "\n",
    "scores_neg = y_pred_5nn_scores[y_test_neg_idx, 1]\n",
    "scores_pos = y_pred_5nn_scores[y_test_pos_idx, 1]\n",
    "b = plt.boxplot([scores_neg, scores_pos])\n",
    "\n",
    "plt.scatter(np.random.normal(1, 0.05, size=len(scores_neg)), scores_neg, alpha=0.25)\n",
    "plt.scatter(np.random.normal(2, 0.05, size=len(scores_pos)), scores_pos, alpha=0.25)\n",
    "\n",
    "plt.xticks([1, 2], ['neg', 'pos'])\n",
    "plt.xlabel('Étiquette réelle')\n",
    "plt.ylabel('Étiquette prédite')\n",
    "plt.title(\"Performance du 5NN\")"
   ]
  },
  {
   "cell_type": "markdown",
   "metadata": {},
   "source": [
    "La différence est que le classificateur prédit bien les valeurs négatives mais mal les valeurs positives. En effet, on observe sur le diagramme de gauche que la plupart des points censés être négatifs, sont très proches de 0 et au moins les 3/4 sont sous 0,5 donc bien classifiés. Mais pour les valeurs positives, ce n'est pas du tout le cas. La majorité des données censées être classifiées positives sont mêmes classifiées négatives."
   ]
  },
  {
   "cell_type": "markdown",
   "metadata": {},
   "source": [
    "### 5.5 (Pour aller plus loin) Avec les composantes principales\n",
    "\n",
    "__Consigne :__ Projetez les données sur le nombre de composantes principales que vous avez choisi dans la section 4, et utilisez ces données-ci pour entrainer un algorithme des 5 plus proches voisins et l'évaluer sur le jeu de test. Comparer ce nouveau modèle à celui obtenu précédemment. Vous pouvez considérer deux variantes : avant et après le prétraitement des données de la section 3.\n",
    "\n",
    "Attention à bien transformer le jeu de test en le projetant sur les PC calculées sur le jeu d'entraînement."
   ]
  },
  {
   "cell_type": "code",
   "execution_count": null,
   "metadata": {},
   "outputs": [],
   "source": []
  },
  {
   "cell_type": "markdown",
   "metadata": {},
   "source": [
    "### 5.6 (Pour aller plus loin) Courbes ROC\n",
    "\n",
    "Quand la prédiction binaire passe par le seuillage d'une fonction de décision, on peut s'interroger sur la valeur de seuil à utiliser, et chercher à visualiser les performances d'une même fonction de décision selon les différents seuils. \n",
    "\n",
    "C'est ce que fait une __courbe ROC__, qui affiche pour chaque seuil possible la sensibilité (aussi appelée rappel ou taux de vrais positifs : il s'agit de (TP/(TP+FN)) vs l'antispécificité (1-spécificité = 1-(TN/(FP+TN)).\n",
    "\n",
    "Vous pouvez lire [sur OpenClassrooms](https://openclassrooms.com/fr/courses/4297211-evaluez-les-performances-dun-modele-de-machine-learning/4308261-evaluez-un-algorithme-de-classification-qui-retourne-des-scores#/id/r-4336166) en détail comment elle est construite. \n",
    "\n",
    "Voici ci-dessous un exemple de code que vous pouvez utiliser pour tracer la courbe ROC pour vos prédictions `y_pred_5nn_scores`."
   ]
  },
  {
   "cell_type": "code",
   "execution_count": null,
   "metadata": {},
   "outputs": [],
   "source": []
  },
  {
   "cell_type": "markdown",
   "metadata": {},
   "source": [
    "## Deuxième partie (après le mercredi 10 juin)\n",
    "Pour poursuivre le mini-projet, vous allez avoir besoin de compétences et connaissances que vous n'avez pas encore au 20 mai 2020."
   ]
  },
  {
   "cell_type": "markdown",
   "metadata": {},
   "source": [
    "## 6. Mise en place d'une validation croisée\n",
    "La validation croisée vous sera présentée au chapitre 8 et lors de la PC 5 et vous permet de comparer les performances de plusieurs modèles de façon plus satisfaisante qu'une séparation entraînement/test. En particulier, elle permet de « lisser » les particularités qui pourraient être liées à la séparation entraînement/test avec laquelle vous travaillez.\n",
    "\n",
    "__Consigne :__ sur le même principe que la séparation train/test de la section 1.2, et en vous inspirant de la PC5, mettez en place une validation croisée de `(X_public, y_public)` que vous utiliserez à partir de maintenant."
   ]
  },
  {
   "cell_type": "markdown",
   "metadata": {},
   "source": [
    "## 7. Sélection du nombre de plus proches voisins par validation croisée\n",
    "__Consigne :__ En vous inspirant de la PC5, utilisez maintenant votre validation croisée pour évaluer l'algorithme des 5 plus proches voisins, puis pour sélectionner la valeur optimale du nombre de voisins avec `GridSearchCV`.\n",
    "\n",
    "Vous pouvez utiliser la grille de valeurs de k suivante, ou la modifier :"
   ]
  },
  {
   "cell_type": "code",
   "execution_count": null,
   "metadata": {},
   "outputs": [],
   "source": [
    "k_values = np.arange(1, 32, step=2)"
   ]
  },
  {
   "cell_type": "markdown",
   "metadata": {},
   "source": [
    "## 8. Régressions logistiques \n",
    "__Consigne :__ En vous inspirant des PC5 et 6, vous pouvez maintenant aussi évaluer et comparer à votre algorithme des plus proches voisins\n",
    "* une régression logistique \n",
    "* une régression logistique régularisée l2\n",
    "* une régression logistique sparse (i.e. régularisée l1).\n",
    "\n",
    "Vous trouverez les outils nécessaires dans la classe `LogisticRegression` du module `linear_model` de `scikit-learn` ; il s'agit ainsi d'une variante de la PC5. Comme toujours, référez-vous à la [documentation](https://scikit-learn.org/stable/modules/generated/sklearn.linear_model.LogisticRegression.html)."
   ]
  },
  {
   "cell_type": "markdown",
   "metadata": {},
   "source": [
    "## 9. Modèle final\n",
    "\n",
    "Vous êtes maintenant en mesure de __sélectionner votre modèle favori__. Quel pré-traitement apportez vous aux données ? Quel algorithme utilisez vous, avec quel(s) hyper-paramètre(s) ? \n",
    "\n",
    "__Consigne :__\n",
    "* Chargez les données privées de `../data/credit_private.csv`. Ces données ressemblent à celles de `credit_public.csv` mais sans la colonne des étiquettes.\n",
    "* Appliquez le pré-traitement que vous avez sélectionné à ces données `X_private` pour obtenir `X_private_processed`.\n",
    "* Appliquez aussi ce pré-traitement à l'intégralité du jeu de données public `X_public` pour obtenir `X_public_processed`.\n",
    "* Ré-entraînez votre algorithme favori (avec son/ses hyper-paramètre(s)) sur l'intégralité des données publiques (`X_public_processed, y_public`). \n",
    "* Enfin, prédisez les étiquettes de `X_private_processed`. Vous pouvez soumettre deux prédictions :\n",
    "    * `y_private_binary` : vos prédictions binaires 0/1\n",
    "    * `y_private_scores` : les valeurs de votre fonction de décision, non seuillée.\n",
    "    \n",
    "   \n",
    "La façon de soumettre vos prédictions pour une évaluation « grandeur réelle » de la qualité de votre modèle vous sera précisée ultérieurement."
   ]
  },
  {
   "cell_type": "markdown",
   "metadata": {},
   "source": [
    "## 10. Pour aller plus loin\n",
    "\n",
    "1) Vous pouvez aussi essayer d'entraîner des forêts aléatoires ou des machines à vecteurs de support sur vos données. Ces méthodes vous seront présentées brièvement au chapitre 9. \n",
    "En plus de la documentation de `scikit-learn`, vous pouvez vous référer à OpenClassrooms :\n",
    "* [Pour les forêts aléatoires](https://openclassrooms.com/fr/courses/4470521-modelisez-vos-donnees-avec-les-methodes-ensemblistes/4664690-tp-mesurez-la-puissance-des-forets-aleatoires).\n",
    "* [Pour les machines à vecteur de support](https://openclassrooms.com/fr/courses/4470406-utilisez-des-modeles-supervises-non-lineaires/4722466-classifiez-vos-donnees-avec-une-svm-a-noyau#/id/r-4880828).\n",
    "    \n",
    "2) Vous pouvez appliquer des méthodes de __sélection de variables__ à vos données avant l'apprentissage. Par exemple :\n",
    "* Conserver uniquement les variables apparaissant dans une régression logistique sparse\n",
    "* Conserver uniquement les variables qui sont liées à l'étiquette : vous pouvez effectuer un test du chi2 (voir PC1) pour les variables catégoriques ou un test t de Student pour comparer, entre deux groupes définis par la valeurs de l'étiquette, les moyennes d'une variable quantitative (attention, ce test suppose que la variable quantitative suit une distribution normale dans les deux groupes).\n",
    "\n",
    "3) Vous pouvez passer beaucoup plus de temps à __pré-traiter__ vos données. Par exemple, voulez-vous utiliser les 6 valeurs des 6 derniers mois, ou leur minimum, ou leur moyenne ? Peut-être croiser les variables `Sexe` et `Statut_marital` pour obtenir une variable qualitative avec les catégories \"femme mariée\", \"homme célibataire\", etc. "
   ]
  }
 ],
 "metadata": {
  "kernelspec": {
   "display_name": "Python 3",
   "language": "python",
   "name": "python3"
  },
  "language_info": {
   "codemirror_mode": {
    "name": "ipython",
    "version": 3
   },
   "file_extension": ".py",
   "mimetype": "text/x-python",
   "name": "python",
   "nbconvert_exporter": "python",
   "pygments_lexer": "ipython3",
   "version": "3.7.6"
  }
 },
 "nbformat": 4,
 "nbformat_minor": 4
}
